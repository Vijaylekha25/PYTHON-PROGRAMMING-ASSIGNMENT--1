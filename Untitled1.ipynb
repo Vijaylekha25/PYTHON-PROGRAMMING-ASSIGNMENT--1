{
 "cells": [
  {
   "cell_type": "markdown",
   "id": "225265f7-00e5-4bdd-b725-05243a06d114",
   "metadata": {},
   "source": [
    "Q1. Create one variable containing following type of data:\n",
    "(i) string\n",
    "(ii) list\n",
    "(iii) float\n",
    "(iv) tuple"
   ]
  },
  {
   "cell_type": "code",
   "execution_count": 1,
   "id": "6673ab09-859d-4063-9c3b-d645b9a0ee5c",
   "metadata": {},
   "outputs": [],
   "source": [
    "# (i) string\n",
    "string_variable = \"Hello, World!\"\n",
    "\n",
    "# (ii) list\n",
    "list_variable = [1, 2, 3, 4, 5]\n",
    "\n",
    "# (iii) float\n",
    "float_variable = 3.14\n",
    "\n",
    "# (iv) tuple\n",
    "tuple_variable = (1, 2, 3, 4, 5)"
   ]
  },
  {
   "cell_type": "markdown",
   "id": "81492ae1-8385-4059-9076-5418e4bb5a75",
   "metadata": {},
   "source": [
    "Q2. Given are some following variables containing data:\n",
    "(i) var1 = ‘ ‘\n",
    "(ii) var2 = ‘[ DS , ML , Python]’\n",
    "(iii) var3 = [ ‘DS’ , ’ML’ , ‘Python’ ]\n",
    "(iv) var4 = 1.\n",
    "What will be the data type of the above given variable."
   ]
  },
  {
   "cell_type": "code",
   "execution_count": 1,
   "id": "481d6bc9-ef4f-4b1b-b3a6-80cfa96d42ff",
   "metadata": {},
   "outputs": [],
   "source": [
    "# (i) var1\n",
    "# Data type: string\n",
    "\n",
    "# (ii) var2\n",
    "# Data type: string\n",
    "\n",
    "# (iii) var3\n",
    "# Data type: list\n",
    "\n",
    "# (iv) var4\n",
    "# Data type: float"
   ]
  },
  {
   "cell_type": "markdown",
   "id": "48667ece-694f-48e2-8395-90d050364ab7",
   "metadata": {},
   "source": [
    "Q3. Explain the use of the following operators using an example:\n",
    "(i) /\n",
    "(ii) %\n",
    "(iii) //\n",
    "(iv) **"
   ]
  },
  {
   "cell_type": "code",
   "execution_count": 2,
   "id": "2b889dd5-840d-4974-986f-e235ed3737db",
   "metadata": {},
   "outputs": [],
   "source": [
    "# (i) / : Division operator, returns the quotient of division.\n",
    "result = 10 / 3  # Result: 3.3333333333333335\n",
    "\n",
    "# (ii) % : Modulus operator, returns the remainder of division.\n",
    "remainder = 10 % 3  # Remainder: 1\n",
    "\n",
    "# (iii) // : Floor division operator, returns the quotient rounded down to the nearest integer.\n",
    "result_floor = 10 // 3  # Result: 3\n",
    "\n",
    "# (iv) ** : Exponentiation operator, raises a number to the power of another number.\n",
    "result_exp = 2 ** 3  # Result: 8"
   ]
  },
  {
   "cell_type": "markdown",
   "id": "82ce8b36-602f-4318-bc78-38ad3575550c",
   "metadata": {},
   "source": [
    "Q4. Create a list of length 10 of your choice containing multiple types of data. Using for loop print the\n",
    "element and its data type."
   ]
  },
  {
   "cell_type": "code",
   "execution_count": 4,
   "id": "f3ba5030-bc24-4697-aa77-cc2358a01b14",
   "metadata": {},
   "outputs": [
    {
     "name": "stdout",
     "output_type": "stream",
     "text": [
      "1: <class 'int'>\n",
      "hello: <class 'str'>\n",
      "3.14: <class 'float'>\n",
      "True: <class 'bool'>\n",
      "[1, 2, 3]: <class 'list'>\n",
      "{'a': 1, 'b': 2}: <class 'dict'>\n",
      "(4, 5, 6): <class 'tuple'>\n",
      "None: <class 'NoneType'>\n",
      "8: <class 'int'>\n",
      "world: <class 'str'>\n"
     ]
    }
   ],
   "source": [
    "mixed_list = [1, 'hello', 3.14, True, [1, 2, 3], {'a': 1, 'b': 2}, (4, 5, 6), None, 8, 'world']\n",
    "\n",
    "for item in mixed_list:\n",
    "    print(f\"{item}: {type(item)}\")"
   ]
  },
  {
   "cell_type": "markdown",
   "id": "2d9a7b18-e18f-4c0f-99e8-52aff7afef16",
   "metadata": {},
   "source": [
    "Q5. Using a while loop, verify if the number A is purely divisible by number B and if so then how many\n",
    "times it can be divisible."
   ]
  },
  {
   "cell_type": "code",
   "execution_count": 2,
   "id": "3d31929d-5042-4f1a-b896-74b5c76a6aa9",
   "metadata": {},
   "outputs": [
    {
     "name": "stdout",
     "output_type": "stream",
     "text": [
      "A is divisible by B 1 times.\n"
     ]
    }
   ],
   "source": [
    "A = 20\n",
    "B = 5\n",
    "count = 0\n",
    "\n",
    "while A % B == 0:\n",
    "    A = A / B\n",
    "    count += 1\n",
    "\n",
    "print(f\"A is divisible by B {count} times.\")"
   ]
  },
  {
   "cell_type": "markdown",
   "id": "b063f3a5-35c9-4c1a-82dc-609f7dead885",
   "metadata": {},
   "source": [
    "Q6. Create a list containing 25 int type data. Using for loop and if-else condition print if the element is\n",
    "divisible by 3 or not."
   ]
  },
  {
   "cell_type": "code",
   "execution_count": 3,
   "id": "03f27697-94fb-4223-9249-43b4d1e75cae",
   "metadata": {},
   "outputs": [
    {
     "name": "stdout",
     "output_type": "stream",
     "text": [
      "1 is not divisible by 3\n",
      "2 is not divisible by 3\n",
      "3 is divisible by 3\n",
      "4 is not divisible by 3\n",
      "5 is not divisible by 3\n",
      "6 is divisible by 3\n",
      "7 is not divisible by 3\n",
      "8 is not divisible by 3\n",
      "9 is divisible by 3\n",
      "10 is not divisible by 3\n",
      "11 is not divisible by 3\n",
      "12 is divisible by 3\n",
      "13 is not divisible by 3\n",
      "14 is not divisible by 3\n",
      "15 is divisible by 3\n",
      "16 is not divisible by 3\n",
      "17 is not divisible by 3\n",
      "18 is divisible by 3\n",
      "19 is not divisible by 3\n",
      "20 is not divisible by 3\n",
      "21 is divisible by 3\n",
      "22 is not divisible by 3\n",
      "23 is not divisible by 3\n",
      "24 is divisible by 3\n",
      "25 is not divisible by 3\n"
     ]
    }
   ],
   "source": [
    "int_list = [i for i in range(1, 26)]\n",
    "\n",
    "for num in int_list:\n",
    "    if num % 3 == 0:\n",
    "        print(f\"{num} is divisible by 3\")\n",
    "    else:\n",
    "        print(f\"{num} is not divisible by 3\")"
   ]
  },
  {
   "cell_type": "markdown",
   "id": "3c051696-559a-40c9-9a99-5eecd1c0b4cc",
   "metadata": {},
   "source": [
    "Q7. What do you understand about mutable and immutable data types? Give examples for both showing\n",
    "this property."
   ]
  },
  {
   "cell_type": "markdown",
   "id": "371cccdf-f54c-4697-8089-feb1f591cb7b",
   "metadata": {},
   "source": [
    "Mutable data types: These are data types whose values can be changed after creation. Lists and dictionaries in Python are mutable data types. Example:"
   ]
  },
  {
   "cell_type": "code",
   "execution_count": 4,
   "id": "134a4bbc-1184-4176-b830-91fac639b231",
   "metadata": {},
   "outputs": [
    {
     "name": "stdout",
     "output_type": "stream",
     "text": [
      "[4, 2, 3]\n"
     ]
    }
   ],
   "source": [
    "mutable_list = [1, 2, 3]\n",
    "mutable_list[0] = 4\n",
    "print(mutable_list)  # Output: [4, 2, 3]"
   ]
  },
  {
   "cell_type": "markdown",
   "id": "09e8bbeb-6dbd-426d-878e-703ff86897a6",
   "metadata": {},
   "source": [
    "Immutable data types: These are data types whose values cannot be changed after creation. Tuples and strings in Python are immutable data types. Example:"
   ]
  },
  {
   "cell_type": "code",
   "execution_count": 6,
   "id": "c53ef97a-7583-4645-ad80-6136fa43c00f",
   "metadata": {},
   "outputs": [
    {
     "ename": "TypeError",
     "evalue": "'tuple' object does not support item assignment",
     "output_type": "error",
     "traceback": [
      "\u001b[1;31m---------------------------------------------------------------------------\u001b[0m",
      "\u001b[1;31mTypeError\u001b[0m                                 Traceback (most recent call last)",
      "Cell \u001b[1;32mIn[6], line 2\u001b[0m\n\u001b[0;32m      1\u001b[0m immutable_tuple \u001b[38;5;241m=\u001b[39m (\u001b[38;5;241m1\u001b[39m, \u001b[38;5;241m2\u001b[39m, \u001b[38;5;241m3\u001b[39m)\n\u001b[1;32m----> 2\u001b[0m \u001b[43mimmutable_tuple\u001b[49m\u001b[43m[\u001b[49m\u001b[38;5;241;43m0\u001b[39;49m\u001b[43m]\u001b[49m \u001b[38;5;241m=\u001b[39m \u001b[38;5;241m4\u001b[39m  \u001b[38;5;66;03m# This will raise an error\u001b[39;00m\n",
      "\u001b[1;31mTypeError\u001b[0m: 'tuple' object does not support item assignment"
     ]
    }
   ],
   "source": [
    "immutable_tuple = (1, 2, 3)\n",
    "immutable_tuple[0] = 4  # This will raise an error"
   ]
  },
  {
   "cell_type": "code",
   "execution_count": null,
   "id": "55e9dccf-9e9a-46ee-9b93-b92f0e7d8ff3",
   "metadata": {},
   "outputs": [],
   "source": []
  }
 ],
 "metadata": {
  "kernelspec": {
   "display_name": "Python 3 (ipykernel)",
   "language": "python",
   "name": "python3"
  },
  "language_info": {
   "codemirror_mode": {
    "name": "ipython",
    "version": 3
   },
   "file_extension": ".py",
   "mimetype": "text/x-python",
   "name": "python",
   "nbconvert_exporter": "python",
   "pygments_lexer": "ipython3",
   "version": "3.12.2"
  }
 },
 "nbformat": 4,
 "nbformat_minor": 5
}
